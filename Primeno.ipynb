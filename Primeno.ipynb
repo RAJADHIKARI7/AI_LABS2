{
 "cells": [
  {
   "cell_type": "code",
   "execution_count": 1,
   "id": "9e0cc9eb",
   "metadata": {},
   "outputs": [
    {
     "name": "stdout",
     "output_type": "stream",
     "text": [
      "Enter the start of the range:2\n",
      "Enter the end of the range: 20\n",
      "2\n",
      "3\n",
      "5\n",
      "7\n",
      "11\n",
      "13\n",
      "17\n",
      "19\n"
     ]
    }
   ],
   "source": [
    "def prime_in_range():\n",
    "    a = int(input(\"Enter the start of the range:\"))\n",
    "    b = int(input(\"Enter the end of the range: \"))\n",
    "\n",
    "    for num in range(a, b):\n",
    "        count = 0\n",
    "        for i in range(1, num + 1):\n",
    "            if num % i == 0:\n",
    "                count =count+ 1\n",
    "        \n",
    "        if count == 2:\n",
    "            print(num)\n",
    "\n",
    "prime_in_range()"
   ]
  },
  {
   "cell_type": "code",
   "execution_count": null,
   "id": "6fa85a6c",
   "metadata": {},
   "outputs": [],
   "source": []
  }
 ],
 "metadata": {
  "kernelspec": {
   "display_name": "Python 3 (ipykernel)",
   "language": "python",
   "name": "python3"
  },
  "language_info": {
   "codemirror_mode": {
    "name": "ipython",
    "version": 3
   },
   "file_extension": ".py",
   "mimetype": "text/x-python",
   "name": "python",
   "nbconvert_exporter": "python",
   "pygments_lexer": "ipython3",
   "version": "3.11.5"
  }
 },
 "nbformat": 4,
 "nbformat_minor": 5
}
