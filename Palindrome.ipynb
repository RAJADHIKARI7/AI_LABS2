{
 "cells": [
  {
   "cell_type": "code",
   "execution_count": 1,
   "id": "c47530c2",
   "metadata": {},
   "outputs": [
    {
     "name": "stdout",
     "output_type": "stream",
     "text": [
      "enter a number123321\n",
      "123321 is \n",
      "a Palindrome \n"
     ]
    }
   ],
   "source": [
    "x=int(input(\"enter a number\")) \n",
    "print(x,\"is \")\n",
    "a=x \n",
    "y=0 \n",
    "i=0 \n",
    "for i in range(len(str(x))): \n",
    "    y=int(y*10 + x%10) \n",
    "    x=int(x/10) \n",
    "if a==y:\n",
    "        print(\"a Palindrome \") \n",
    "else: print(\"Not a Palindrome\")\n"
   ]
  },
  {
   "cell_type": "code",
   "execution_count": null,
   "id": "bbee8979",
   "metadata": {},
   "outputs": [],
   "source": []
  }
 ],
 "metadata": {
  "kernelspec": {
   "display_name": "Python 3 (ipykernel)",
   "language": "python",
   "name": "python3"
  },
  "language_info": {
   "codemirror_mode": {
    "name": "ipython",
    "version": 3
   },
   "file_extension": ".py",
   "mimetype": "text/x-python",
   "name": "python",
   "nbconvert_exporter": "python",
   "pygments_lexer": "ipython3",
   "version": "3.11.5"
  }
 },
 "nbformat": 4,
 "nbformat_minor": 5
}
