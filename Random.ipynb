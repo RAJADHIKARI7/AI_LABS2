{
 "cells": [
  {
   "cell_type": "code",
   "execution_count": 1,
   "id": "945841b0",
   "metadata": {},
   "outputs": [
    {
     "name": "stdout",
     "output_type": "stream",
     "text": [
      "Enter your Guess: 5\n",
      "NOT- GUESS HIGHER!\n",
      "Enter your Guess: 6\n",
      "NOT- GUESS HIGHER!\n",
      "Enter your Guess: 7\n",
      "NOT- GUESS HIGHER!\n",
      "Enter your Guess: 8\n",
      "NOT- GUESS HIGHER!\n",
      "Enter your Guess: 9\n",
      "NOT- GUESS HIGHER!\n",
      "Enter your Guess: 30\n",
      "NOT- GUESS HIGHER!\n",
      "Enter your Guess: 100\n",
      "NOT- GUESS LOWER!\n",
      "Enter your Guess: 98\n",
      "NOT- GUESS LOWER!\n",
      "Enter your Guess: 60\n",
      "NOT- GUESS LOWER!\n",
      "Enter your Guess: 40\n",
      "NOT- GUESS HIGHER!\n",
      "Enter your Guess: 50\n",
      "NOT- GUESS HIGHER!\n",
      "Enter your Guess: 55\n",
      "NOT- GUESS LOWER!\n",
      "Enter your Guess: 54\n",
      "You won!\n"
     ]
    }
   ],
   "source": [
    "import random\n",
    "number = random.randint(1,100)\n",
    "guess = 0\n",
    "while guess != number:\n",
    "  guess = int(input(\"Enter your Guess: \"))\n",
    "\n",
    "  if (guess < number):\n",
    "    print(\"NOT- GUESS HIGHER!\")\n",
    "  elif (guess > number):\n",
    "    print(\"NOT- GUESS LOWER!\")\n",
    "  else:\n",
    "    print(\"You won!\")"
   ]
  },
  {
   "cell_type": "code",
   "execution_count": null,
   "id": "ec361e3d",
   "metadata": {},
   "outputs": [],
   "source": []
  }
 ],
 "metadata": {
  "kernelspec": {
   "display_name": "Python 3 (ipykernel)",
   "language": "python",
   "name": "python3"
  },
  "language_info": {
   "codemirror_mode": {
    "name": "ipython",
    "version": 3
   },
   "file_extension": ".py",
   "mimetype": "text/x-python",
   "name": "python",
   "nbconvert_exporter": "python",
   "pygments_lexer": "ipython3",
   "version": "3.11.5"
  }
 },
 "nbformat": 4,
 "nbformat_minor": 5
}
