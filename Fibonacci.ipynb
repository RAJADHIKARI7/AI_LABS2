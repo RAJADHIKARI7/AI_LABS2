{
 "cells": [
  {
   "cell_type": "code",
   "execution_count": 2,
   "id": "ca440e7d",
   "metadata": {},
   "outputs": [
    {
     "name": "stdout",
     "output_type": "stream",
     "text": [
      "Enter the digit4\n",
      "The fibo series can be as 4 4\n",
      "8\n",
      "12\n",
      "20\n",
      "32\n",
      "52\n",
      "84\n",
      "136\n",
      "220\n",
      "356\n",
      "576\n"
     ]
    }
   ],
   "source": [
    "x=int(input(\"Enter the digit\"))\n",
    "y=x\n",
    "print(f\"The fibo series can be as {x} {y}\")\n",
    "z=int(0)\n",
    "i=0\n",
    "for i in range(10):\n",
    "    z=x+y\n",
    "    print(z)\n",
    "    x=y\n",
    "    y=z"
   ]
  },
  {
   "cell_type": "code",
   "execution_count": null,
   "id": "171570a6",
   "metadata": {},
   "outputs": [],
   "source": []
  }
 ],
 "metadata": {
  "kernelspec": {
   "display_name": "Python 3 (ipykernel)",
   "language": "python",
   "name": "python3"
  },
  "language_info": {
   "codemirror_mode": {
    "name": "ipython",
    "version": 3
   },
   "file_extension": ".py",
   "mimetype": "text/x-python",
   "name": "python",
   "nbconvert_exporter": "python",
   "pygments_lexer": "ipython3",
   "version": "3.11.5"
  }
 },
 "nbformat": 4,
 "nbformat_minor": 5
}
